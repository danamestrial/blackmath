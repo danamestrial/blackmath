{
 "cells": [
  {
   "cell_type": "code",
   "execution_count": 1,
   "id": "09b15e9a",
   "metadata": {
    "pycharm": {
     "name": ""
    }
   },
   "outputs": [],
   "source": [
    "import csv  \n",
    "import numpy as np\n",
    "import pandas as pd\n",
    "import matplotlib.pyplot as plt\n",
    "from numpy.random import default_rng\n",
    "plt.rcParams['figure.figsize'] = [20, 19]"
   ]
  },
  {
   "cell_type": "code",
   "execution_count": 2,
   "id": "df0dff1c",
   "metadata": {},
   "outputs": [],
   "source": [
    "def get_cards(x):\n",
    "    cards = np.array([\n",
    "        card for card in range(1,14) # Values\n",
    "        for suits in range(1,5)      # Suits\n",
    "        for num_decks in range(x)  # Number of decks\n",
    "    ])\n",
    "    rng = default_rng()\n",
    "    rng.shuffle(cards)\n",
    "    return cards"
   ]
  },
  {
   "cell_type": "code",
   "execution_count": 3,
   "id": "e37474b7",
   "metadata": {},
   "outputs": [],
   "source": [
    "def pop(arr):\n",
    "    select, arr = arr[-1], arr[:-1]\n",
    "    return 10 if select > 10 else (11 if select == 1 else select), arr, select == 1"
   ]
  },
  {
   "cell_type": "code",
   "execution_count": 4,
   "id": "5ebbd3e7",
   "metadata": {},
   "outputs": [],
   "source": [
    "# Sim Variables\n",
    "\n",
    "n = 10000\n",
    "dealer_threshold = 17\n",
    "stand_threshold = 17\n",
    "hit_threshold = 12\n",
    "data = np.array([])"
   ]
  },
  {
   "cell_type": "code",
   "execution_count": 5,
   "id": "2f0b8cbf",
   "metadata": {},
   "outputs": [],
   "source": [
    "def play_blackjack(num, n_decks=8):\n",
    "    rng = default_rng()\n",
    "    cards = get_cards(n_decks)\n",
    "    header = ['player_hand', 'player_picked_card', 'dealer_card','dealer_total', 'hit', 'win']\n",
    "\n",
    "    with open('result.csv', 'w', encoding='UTF8') as f:\n",
    "        writer = csv.writer(f)\n",
    "        \n",
    "        # write the header\n",
    "        writer.writerow(header)\n",
    "    \n",
    "        for _ in range(num):\n",
    "            hit = False\n",
    "            if len(cards) < (n_decks/2)*52:\n",
    "                cards = get_cards(n_decks)\n",
    "\n",
    "            player_card_1, cards, ace_check1 = pop(cards)\n",
    "            dealer_card_1, cards, _ = pop(cards)\n",
    "            player_card_2, cards, ace_check2 = pop(cards)\n",
    "            dealer_hidden, cards, _ = pop(cards)\n",
    "\n",
    "            ace = ace_check1 or ace_check2\n",
    "\n",
    "            player_total = player_card_1+player_card_2\n",
    "            dealer_total = dealer_card_1+dealer_hidden\n",
    "\n",
    "            # If dealer Blackjack right away, player lose\n",
    "            if dealer_total == 21:\n",
    "                writer.writerow([player_total, None, dealer_card_1, dealer_total, 0, 0])\n",
    "                continue\n",
    "\n",
    "            picked = None\n",
    "            while rng.choice([True, False]) and player_total <= 21:\n",
    "                hit = True\n",
    "                hand, cards, ace_check3 = pop(cards)\n",
    "                if player_total+hand > 21 and (ace or ace_check3): #If contains ace and > 21 change ace to 1\n",
    "                    ace = False\n",
    "                    picked = 1 if hand == 11 else hand\n",
    "                    player_total+=(-10 + hand)\n",
    "                else:\n",
    "                    picked = hand\n",
    "                    player_total+=hand\n",
    "\n",
    "            # If player over 21 lose\n",
    "            if player_total > 21:\n",
    "                writer.writerow([player_total-picked if picked else player_total, picked if hit else None, dealer_card_1, dealer_total, 1 if hit else 0, 0])\n",
    "                continue\n",
    "\n",
    "            ## Dealer Deals\n",
    "            while dealer_total < dealer_threshold:\n",
    "                card, cards, _ = pop(cards)\n",
    "                dealer_total+=card\n",
    "\n",
    "            if dealer_total > 21:\n",
    "                writer.writerow([player_total-picked if picked else player_total, picked if hit else None, dealer_card_1, dealer_total, 1 if hit else 0, 1])\n",
    "                continue\n",
    "            elif dealer_total > player_total:\n",
    "                writer.writerow([player_total-picked if picked else player_total, picked if hit else None, dealer_card_1, dealer_total,1 if hit else 0, 0 ])\n",
    "                continue\n",
    "            elif player_total > dealer_total:\n",
    "                writer.writerow([player_total-picked if picked else player_total, picked if hit else None, dealer_card_1, dealer_total,1 if hit else 0, 1 ])\n",
    "                continue\n",
    "            else:\n",
    "                continue\n",
    "        print(f'Completed')"
   ]
  },
  {
   "cell_type": "code",
   "execution_count": 6,
   "id": "5d563d74",
   "metadata": {},
   "outputs": [
    {
     "name": "stdout",
     "output_type": "stream",
     "text": [
      "Completed\n"
     ]
    }
   ],
   "source": [
    "play_blackjack(200000, n_decks=8)\n",
    "df = pd.read_csv(\"result.csv\")"
   ]
  },
  {
   "cell_type": "markdown",
   "source": [
    "## P(Win | Stand) Matrix"
   ],
   "metadata": {
    "collapsed": false
   }
  },
  {
   "cell_type": "code",
   "execution_count": 7,
   "id": "03ddab93",
   "metadata": {},
   "outputs": [],
   "source": [
    "player_hands = np.arange(3,22)\n",
    "dealer_hands = np.arange(2,12)\n",
    "\n",
    "p_win_given_stand = []\n",
    "\n",
    "for dealer in range(2,12):\n",
    "    for player in range(3,22):\n",
    "        display = df[(df['player_hand'] == player) & (df['dealer_card'] == dealer)]\n",
    "        stand = display[display['hit'] == 0]\n",
    "        total_stand = 1e-7 if len(stand) == 0 else len(stand)\n",
    "        p = len(stand[stand['win'] == 1])/total_stand\n",
    "        p_win_given_stand.append(round(p,3))\n",
    "\n",
    "p_win_given_stand = np.array(p_win_given_stand, dtype='f').reshape(len(dealer_hands), len(player_hands))"
   ]
  },
  {
   "cell_type": "markdown",
   "source": [
    "## P(Win | Hit) Matrix"
   ],
   "metadata": {
    "collapsed": false
   }
  },
  {
   "cell_type": "code",
   "execution_count": 8,
   "outputs": [],
   "source": [
    "player_hands = np.arange(3,22)\n",
    "dealer_hands = np.arange(2,12)\n",
    "\n",
    "p_win_given_hit = []\n",
    "\n",
    "for dealer in range(2,12):\n",
    "    for player in range(3,22):\n",
    "        display = df[(df['player_hand'] == player) & (df['dealer_card'] == dealer)]\n",
    "        hit = display[display['hit'] == 1]\n",
    "        total_hit = 1e-7 if len(hit) == 0 else len(hit)\n",
    "        p = len(hit[hit['win'] == 1])/total_hit\n",
    "        p_win_given_hit.append(round(p,3))\n",
    "\n",
    "p_win_given_hit = np.array(p_win_given_hit, dtype='f').reshape(len(dealer_hands), len(player_hands))"
   ],
   "metadata": {
    "collapsed": false
   }
  },
  {
   "cell_type": "markdown",
   "source": [
    "## Hit > Stand Matrix"
   ],
   "metadata": {
    "collapsed": false
   }
  },
  {
   "cell_type": "code",
   "execution_count": 9,
   "outputs": [],
   "source": [
    "determine = (p_win_given_hit > p_win_given_stand)"
   ],
   "metadata": {
    "collapsed": false
   }
  },
  {
   "cell_type": "markdown",
   "source": [
    "# Visualise"
   ],
   "metadata": {
    "collapsed": false
   }
  },
  {
   "cell_type": "code",
   "execution_count": 1,
   "outputs": [
    {
     "ename": "NameError",
     "evalue": "name 'plt' is not defined",
     "output_type": "error",
     "traceback": [
      "\u001B[0;31m---------------------------------------------------------------------------\u001B[0m",
      "\u001B[0;31mNameError\u001B[0m                                 Traceback (most recent call last)",
      "Cell \u001B[0;32mIn [1], line 1\u001B[0m\n\u001B[0;32m----> 1\u001B[0m fig, axes \u001B[38;5;241m=\u001B[39m \u001B[43mplt\u001B[49m\u001B[38;5;241m.\u001B[39msubplots(\u001B[38;5;241m3\u001B[39m,\u001B[38;5;241m1\u001B[39m)\n\u001B[1;32m      2\u001B[0m ax, ax2, ax3 \u001B[38;5;241m=\u001B[39m axes\n\u001B[1;32m      3\u001B[0m plt\u001B[38;5;241m.\u001B[39msubplots_adjust(hspace\u001B[38;5;241m=\u001B[39m\u001B[38;5;241m0.3\u001B[39m)\n",
      "\u001B[0;31mNameError\u001B[0m: name 'plt' is not defined"
     ]
    }
   ],
   "source": [
    "fig, axes = plt.subplots(3,1)\n",
    "ax, ax2, ax3 = axes\n",
    "plt.subplots_adjust(hspace=0.3)\n",
    "im = ax.imshow(p_win_given_stand)\n",
    "im2 = ax2.imshow(p_win_given_hit)\n",
    "im3 = ax3.imshow(determine)\n",
    "\n",
    "### Heat Map 1 Formatting\n",
    "# Show all ticks and label them with the respective list entries\n",
    "ax.set_xticks(np.arange(len(player_hands)), labels=player_hands)\n",
    "ax.set_yticks(np.arange(len(dealer_hands)), labels=dealer_hands)\n",
    "\n",
    "# Rotate the tick labels and set their alignment.\n",
    "plt.setp(ax.get_xticklabels(), rotation=45, ha=\"right\",\n",
    "         rotation_mode=\"anchor\")\n",
    "\n",
    "# Loop over data dimensions and create text annotations.\n",
    "for i in range(len(dealer_hands)):\n",
    "    for j in range(len(player_hands)):\n",
    "        text = ax.text(j, i, p_win_given_stand[i, j],\n",
    "                       ha=\"center\", va=\"center\", color=\"w\")\n",
    "\n",
    "ax.set_title(\"P(Win | Stand)\")\n",
    "ax.set(xlabel=\"Total in Player's Hand\", ylabel=\"Dealer's Card\")\n",
    "# fig.tight_layout()\n",
    "cax = fig.add_axes([ax.get_position().x1+0.01,ax.get_position().y0,0.02,ax.get_position().height])\n",
    "plt.colorbar(im, cax=cax)\n",
    "\n",
    "### Heat Map 2 Formatting\n",
    "# Show all ticks and label them with the respective list entries\n",
    "ax2.set_xticks(np.arange(len(player_hands)), labels=player_hands)\n",
    "ax2.set_yticks(np.arange(len(dealer_hands)), labels=dealer_hands)\n",
    "\n",
    "# Rotate the tick labels and set their alignment.\n",
    "plt.setp(ax2.get_xticklabels(), rotation=45, ha=\"right\",\n",
    "         rotation_mode=\"anchor\")\n",
    "\n",
    "# Loop over data dimensions and create text annotations.\n",
    "for i in range(len(dealer_hands)):\n",
    "    for j in range(len(player_hands)):\n",
    "        text = ax2.text(j, i, p_win_given_hit[i, j],\n",
    "                       ha=\"center\", va=\"center\", color=\"w\")\n",
    "\n",
    "ax2.set_title(\"P(Win | Hit)\")\n",
    "ax2.set(xlabel=\"Total in Player's Hand\", ylabel=\"Dealer's Card\")\n",
    "cax = fig.add_axes([ax2.get_position().x1+0.01,ax2.get_position().y0,0.02,ax2.get_position().height])\n",
    "plt.colorbar(im2, cax=cax)\n",
    "\n",
    "### Heat Map 3 Formatting\n",
    "# Show all ticks and label them with the respective list entries\n",
    "ax3.set_xticks(np.arange(len(player_hands)), labels=player_hands)\n",
    "ax3.set_yticks(np.arange(len(dealer_hands)), labels=dealer_hands)\n",
    "\n",
    "# Rotate the tick labels and set their alignment.\n",
    "plt.setp(ax3.get_xticklabels(), rotation=45, ha=\"right\",\n",
    "         rotation_mode=\"anchor\")\n",
    "\n",
    "# Loop over data dimensions and create text annotations.\n",
    "for i in range(len(dealer_hands)):\n",
    "    for j in range(len(player_hands)):\n",
    "        text = ax3.text(j, i, \"H\" if determine[i, j] else \"S\",\n",
    "                        ha=\"center\", va=\"center\", color=\"w\")\n",
    "\n",
    "ax3.set_title(\"Hit/Stand\")\n",
    "ax3.set(xlabel=\"Total in Player's Hand\", ylabel=\"Dealer's Card\")\n",
    "cax = fig.add_axes([ax3.get_position().x1+0.01,ax3.get_position().y0,0.02,ax3.get_position().height])\n",
    "plt.colorbar(im3, cax=cax)\n",
    "\n",
    "plt.savefig('Truth Table.png', transparent=True, bbox_inches='tight')\n",
    "plt.show()"
   ],
   "metadata": {
    "collapsed": false
   }
  },
  {
   "cell_type": "code",
   "execution_count": 11,
   "outputs": [],
   "source": [
    "def play_blackjack_with_p(num, probability, n_decks=8):\n",
    "    cards=get_cards(n_decks)\n",
    "    lose = 0\n",
    "    push = 0\n",
    "    win = 0\n",
    "\n",
    "    for _ in range(num):\n",
    "        # cards = get_cards(1)\n",
    "        if len(cards) < (n_decks/2)*52:\n",
    "            cards = get_cards(n_decks)\n",
    "\n",
    "        player_card_1, cards, _ = pop(cards)\n",
    "        dealer_card_1, cards, _ = pop(cards)\n",
    "        player_card_2, cards, _  = pop(cards)\n",
    "        dealer_hidden, cards, _ = pop(cards)\n",
    "\n",
    "        player_total = player_card_1+player_card_2\n",
    "        dealer_total = dealer_card_1+dealer_hidden\n",
    "\n",
    "        # print(dealer_card_1-1,player_total-2)\n",
    "\n",
    "        if dealer_card_1 == 1 and dealer_hidden == 10:\n",
    "            lose+=1\n",
    "            continue\n",
    "\n",
    "        # print(dealer_card_1-2,player_total-3)\n",
    "        while player_total <= 21 and probability[dealer_card_1-3,player_total-4]:\n",
    "            last_card, cards, _ = pop(cards)\n",
    "            player_total += last_card\n",
    "\n",
    "        if player_total > 21:\n",
    "            lose+=1\n",
    "            continue\n",
    "\n",
    "        ## Dealer Deals\n",
    "\n",
    "        while dealer_total < dealer_threshold:\n",
    "            card, cards, _ = pop(cards)\n",
    "            dealer_total+=card\n",
    "\n",
    "        if dealer_total > 21:\n",
    "            # write the data\n",
    "            win+=1\n",
    "        elif player_total > dealer_total:\n",
    "            win+=1\n",
    "        elif dealer_total > player_total:\n",
    "            lose+=1\n",
    "        else:\n",
    "            push+=1\n",
    "    print(f'Win: {win}, Lost: {lose}, Push: {push}, Winrate: {(win/num) * 100}%')\n",
    "    return win, lose, push"
   ],
   "metadata": {
    "collapsed": false
   }
  },
  {
   "cell_type": "code",
   "execution_count": 12,
   "outputs": [
    {
     "name": "stdout",
     "output_type": "stream",
     "text": [
      "Win: 433294, Lost: 497235, Push: 69471, Winrate: 43.3294%\n"
     ]
    },
    {
     "data": {
      "text/plain": "(433294, 497235, 69471)"
     },
     "execution_count": 12,
     "metadata": {},
     "output_type": "execute_result"
    }
   ],
   "source": [
    "play_blackjack_with_p(1000000, determine, n_decks=8)"
   ],
   "metadata": {
    "collapsed": false
   }
  },
  {
   "cell_type": "code",
   "execution_count": 12,
   "outputs": [],
   "source": [],
   "metadata": {
    "collapsed": false
   }
  }
 ],
 "metadata": {
  "kernelspec": {
   "display_name": "Python 3 (ipykernel)",
   "language": "python",
   "name": "python3"
  },
  "language_info": {
   "codemirror_mode": {
    "name": "ipython",
    "version": 3
   },
   "file_extension": ".py",
   "mimetype": "text/x-python",
   "name": "python",
   "nbconvert_exporter": "python",
   "pygments_lexer": "ipython3",
   "version": "3.10.8"
  }
 },
 "nbformat": 4,
 "nbformat_minor": 5
}
