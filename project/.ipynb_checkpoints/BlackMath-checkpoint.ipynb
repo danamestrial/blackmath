{
 "cells": [
  {
   "cell_type": "code",
   "execution_count": 2,
   "id": "09b15e9a",
   "metadata": {
    "pycharm": {
     "name": ""
    }
   },
   "outputs": [],
   "source": [
    "import csv  \n",
    "import numpy as np\n",
    "import pandas as pd\n",
    "from numpy.random import default_rng"
   ]
  },
  {
   "cell_type": "code",
   "execution_count": 3,
   "id": "df0dff1c",
   "metadata": {},
   "outputs": [],
   "source": [
    "def get_cards():\n",
    "    cards = np.array([\n",
    "        card for card in range(1,14) # Values\n",
    "        for suits in range(1,5)      # Suits\n",
    "        for num_decks in range(1,7)  # Number of decks\n",
    "    ])\n",
    "    rng = default_rng()\n",
    "    rng.shuffle(cards)\n",
    "    return cards"
   ]
  },
  {
   "cell_type": "code",
   "execution_count": 4,
   "id": "e37474b7",
   "metadata": {},
   "outputs": [],
   "source": [
    "def pop(arr):\n",
    "    select, arr = arr[-1], arr[:-1]\n",
    "    return select, arr"
   ]
  },
  {
   "cell_type": "code",
   "execution_count": 9,
   "id": "5ebbd3e7",
   "metadata": {},
   "outputs": [],
   "source": [
    "# Sim Variables\n",
    "\n",
    "n = 10000\n",
    "dealer_threshold = 17\n",
    "stand_threshold = 17\n",
    "hit_threshold = 12\n",
    "data = np.array([])"
   ]
  },
  {
   "cell_type": "code",
   "execution_count": 6,
   "id": "2f0b8cbf",
   "metadata": {},
   "outputs": [],
   "source": [
    "def play_blackjack(num, cards=get_cards()):\n",
    "    lost = 0\n",
    "    push = 0\n",
    "    win = 0\n",
    "    \n",
    "    rng = default_rng()\n",
    "    \n",
    "    header = ['player_total', 'dealer_card', 'hit?', 'win?']\n",
    "#     data = ['Afghanistan', 652090, 'AF', 'AFG']\n",
    "\n",
    "    with open('result.csv', 'w', encoding='UTF8') as f:\n",
    "        writer = csv.writer(f)\n",
    "        \n",
    "        # write the header\n",
    "        writer.writerow(header)\n",
    "    \n",
    "        for i in range(num):\n",
    "            hit = False\n",
    "            if(len(cards) < 208):\n",
    "                cards = get_cards()\n",
    "\n",
    "            player_card_1, cards = pop(cards)\n",
    "            dealer_card_1, cards = pop(cards)\n",
    "            player_card_2, cards = pop(cards)\n",
    "            dealer_hidden, cards = pop(cards)\n",
    "\n",
    "            player_total = player_card_1+player_card_2\n",
    "            dealer_total = dealer_card_1+dealer_hidden\n",
    "\n",
    "            while player_total < 21 and rng.choice([True, False]):\n",
    "                hit = True\n",
    "                card, cards = pop(cards)\n",
    "                player_total += card\n",
    "\n",
    "            ## Dealer Deals\n",
    "\n",
    "            while dealer_total < dealer_threshold:\n",
    "                card, cards = pop(cards)\n",
    "                dealer_total+=card\n",
    "\n",
    "            if dealer_total > 21:\n",
    "                # write the data\n",
    "                writer.writerow([player_total, dealer_card_1, \"1\" if hit else \"2\", ])\n",
    "                continue\n",
    "            elif dealer_total > player_total:\n",
    "                lost+=1\n",
    "                continue\n",
    "            elif dealer_total == player_total:\n",
    "                push+=1\n",
    "                continue\n",
    "            else:\n",
    "                win+=1\n",
    "\n",
    "        print(f'lost: {lost}, win: {win}, push : {push}')"
   ]
  },
  {
   "cell_type": "code",
   "execution_count": null,
   "id": "48a97197",
   "metadata": {},
   "outputs": [],
   "source": [
    "#             ## Player Deals\n",
    "\n",
    "#             while player_total <= 10:\n",
    "#                 card, cards = pop(cards)\n",
    "#                 player_total+=card\n",
    "\n",
    "#             ## BaseCase: player_total will always be >= 12 after this point\n",
    "\n",
    "#             if player_total >= stand_threshold:\n",
    "#                 if dealer_card_1 > 7:\n",
    "#                     while player_total < stand_threshold:\n",
    "#                         card, cards = pop(cards)\n",
    "#                         player_total+=card\n",
    "\n",
    "#                     if player_total > 21:\n",
    "#                         lost+=1\n",
    "#                         continue\n",
    "\n",
    "#                 elif dealer_card_1 == 2 or dealer_card_1 == 3:\n",
    "#                     while player_total == hit_threshold:\n",
    "#                         card, cards = pop(cards)\n",
    "#                         player_total+=card\n",
    "\n",
    "#                     if player_total > 21:\n",
    "#                         lost+=1\n",
    "#                         continue"
   ]
  },
  {
   "cell_type": "code",
   "execution_count": 7,
   "id": "5d563d74",
   "metadata": {},
   "outputs": [
    {
     "name": "stdout",
     "output_type": "stream",
     "text": [
      "lost: 46, win: 45, push : 9\n",
      "lost: 501, win: 457, push : 42\n",
      "lost: 4827, win: 4769, push : 404\n",
      "lost: 48418, win: 47375, push : 4207\n",
      "lost: 480360, win: 479128, push : 40512\n"
     ]
    }
   ],
   "source": [
    "play_blackjack(100)\n",
    "play_blackjack(1000)\n",
    "play_blackjack(10000)\n",
    "play_blackjack(100000)\n",
    "play_blackjack(1000000)"
   ]
  },
  {
   "cell_type": "code",
   "execution_count": 8,
   "id": "82cb6e35",
   "metadata": {},
   "outputs": [],
   "source": [
    "header = ['player_total', 'dealer_card', 'hit?', 'win?']\n",
    "data = ['Afghanistan', 652090, 'AF', 'AFG']\n",
    "\n",
    "with open('result.csv', 'w', encoding='UTF8') as f:\n",
    "    writer = csv.writer(f)\n",
    "\n",
    "    # write the header\n",
    "    writer.writerow(header)\n",
    "\n",
    "    # write the data\n",
    "    writer.writerow(data)"
   ]
  },
  {
   "cell_type": "code",
   "execution_count": null,
   "id": "ee9ed5d2",
   "metadata": {},
   "outputs": [],
   "source": []
  }
 ],
 "metadata": {
  "kernelspec": {
   "display_name": "Python 3 (ipykernel)",
   "language": "python",
   "name": "python3"
  },
  "language_info": {
   "codemirror_mode": {
    "name": "ipython",
    "version": 3
   },
   "file_extension": ".py",
   "mimetype": "text/x-python",
   "name": "python",
   "nbconvert_exporter": "python",
   "pygments_lexer": "ipython3",
   "version": "3.10.8"
  }
 },
 "nbformat": 4,
 "nbformat_minor": 5
}
